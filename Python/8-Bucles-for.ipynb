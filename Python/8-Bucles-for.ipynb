{
 "cells": [
  {
   "cell_type": "markdown",
   "metadata": {},
   "source": [
    "<div style=\"text-align: center;\">\n",
    "  <img src=\"https://github.com/Hack-io-Data/Imagenes/blob/main/01-LogosHackio/logo_celeste@4x.png?raw=true\" alt=\"logo hack(io)\" />\n",
    "</div>"
   ]
  },
  {
   "cell_type": "markdown",
   "metadata": {},
   "source": [
    "####  1. Genera una lista de números del 0 al 4 y luego imprime cada número en la lista usando un `bucle for`. "
   ]
  },
  {
   "cell_type": "code",
   "execution_count": 1,
   "metadata": {},
   "outputs": [
    {
     "name": "stdout",
     "output_type": "stream",
     "text": [
      "0\n",
      "1\n",
      "2\n",
      "3\n",
      "4\n"
     ]
    }
   ],
   "source": [
    "lista_numeros = [0,1,2,3,4]\n",
    "\n",
    "for numeros in lista_numeros:\n",
    "    print(numeros)"
   ]
  },
  {
   "cell_type": "markdown",
   "metadata": {},
   "source": [
    "#### 2. Itera sobre una lista de frutas y muestra cada fruta en mayúsculas. \n"
   ]
  },
  {
   "cell_type": "code",
   "execution_count": 4,
   "metadata": {},
   "outputs": [
    {
     "name": "stdout",
     "output_type": "stream",
     "text": [
      "FRESA\n",
      "MANGO\n",
      "KIWI\n"
     ]
    }
   ],
   "source": [
    "lista_frutas = ['fresa','mango','kiwi']\n",
    "\n",
    "for frutas in lista_frutas:\n",
    "    print(frutas.upper())"
   ]
  },
  {
   "cell_type": "markdown",
   "metadata": {},
   "source": [
    "####  3. Genera un bucle while que imprima los números del 0 al 4. \n"
   ]
  },
  {
   "cell_type": "code",
   "execution_count": 14,
   "metadata": {},
   "outputs": [
    {
     "name": "stdout",
     "output_type": "stream",
     "text": [
      "0\n",
      "1\n",
      "2\n",
      "3\n",
      "4\n"
     ]
    }
   ],
   "source": [
    "numero1 = 0\n",
    "\n",
    "while numero1 <=4:\n",
    "    print(numero1)\n",
    "    numero1 += 1"
   ]
  },
  {
   "cell_type": "markdown",
   "metadata": {},
   "source": [
    "#### 4. Genera un bucle del 0 al 9, pero que se detenga en el 5.\n"
   ]
  },
  {
   "cell_type": "code",
   "execution_count": 18,
   "metadata": {},
   "outputs": [
    {
     "name": "stdout",
     "output_type": "stream",
     "text": [
      "0\n",
      "1\n",
      "2\n",
      "3\n",
      "4\n"
     ]
    }
   ],
   "source": [
    "numero2 = 0\n",
    "\n",
    "while numero2 <=9:\n",
    "    print(numero2)\n",
    "    numero2 += 1\n",
    "    if numero2 == 5:\n",
    "        break"
   ]
  },
  {
   "cell_type": "markdown",
   "metadata": {},
   "source": [
    "#### 5. Recorre los números del 0 al 9 e imprime solo los números impares."
   ]
  },
  {
   "cell_type": "code",
   "execution_count": 20,
   "metadata": {},
   "outputs": [
    {
     "name": "stdout",
     "output_type": "stream",
     "text": [
      "1\n",
      "3\n",
      "5\n",
      "7\n",
      "9\n"
     ]
    }
   ],
   "source": [
    "numero3 = 0\n",
    "\n",
    "while numero3 <=9:\n",
    "    if numero3 % 2:\n",
    "        print(numero3)\n",
    "\n",
    "    numero3 += 1\n",
    "    "
   ]
  },
  {
   "cell_type": "markdown",
   "metadata": {},
   "source": [
    "#### 6. Dada la lista `[10, 20, 30, 40, 50]`, calcula la suma de todos los elementos usando un bucle `for`."
   ]
  },
  {
   "cell_type": "code",
   "execution_count": 44,
   "metadata": {},
   "outputs": [
    {
     "name": "stdout",
     "output_type": "stream",
     "text": [
      "La sumatoria de los números es 150\n"
     ]
    }
   ],
   "source": [
    "lista_numeros1 = [10, 20, 30, 40, 50]\n",
    "resultado1 = 0\n",
    "\n",
    "for numeros1 in lista_numeros1:\n",
    "    resultado1 += numeros1\n",
    "\n",
    "print(f\"La sumatoria de los números es {resultado1}\")\n"
   ]
  },
  {
   "cell_type": "markdown",
   "metadata": {},
   "source": [
    "#### 7. Dada la cadena `\"Hola mundo\"`, cuenta cuántas veces aparecen las vocales (`a`, `e`, `i`, `o`, `u`) usando un bucle `for`.\n"
   ]
  },
  {
   "cell_type": "code",
   "execution_count": 179,
   "metadata": {},
   "outputs": [
    {
     "name": "stdout",
     "output_type": "stream",
     "text": [
      "En la cadena hay un total de 4 vocales\n",
      "{'a': 1, 'e': 0, 'i': 0, 'o': 2, 'u': 1}\n"
     ]
    }
   ],
   "source": [
    "#Contar el número total de vocales\n",
    "cadena1 = 'Hola mundo'\n",
    "vocales1 = 'aeiou'\n",
    "suma1 = 0\n",
    "\n",
    "for vocal in cadena1:\n",
    "    if vocal in vocales1:\n",
    "        suma1 = suma1 + 1\n",
    "\n",
    "print(f'n la cadena hay un total de {suma1} vocales')\n",
    "\n",
    "#Contar cada vocal con diccionario\n",
    "vocalesrepetidas1 = {'a':0,'e':0,'i':0,'o':0,'u':0}\n",
    "\n",
    "for vocal in cadena1:\n",
    "    if vocal in vocalesrepetidas1:\n",
    "        vocalesrepetidas1[vocal] += 1\n",
    "    \n",
    "\n",
    "print(vocalesrepetidas1)"
   ]
  },
  {
   "cell_type": "markdown",
   "metadata": {},
   "source": [
    "#### 8. Dada la cadena `\"Python\"`, usa un bucle `for` para imprimir los caracteres en orden inverso (`n`, `o`, `h`, `t`, `y`, `P`).\n"
   ]
  },
  {
   "cell_type": "code",
   "execution_count": 76,
   "metadata": {},
   "outputs": [
    {
     "name": "stdout",
     "output_type": "stream",
     "text": [
      "nohtyP\n"
     ]
    }
   ],
   "source": [
    "cadena2 = 'Python'\n",
    "\n",
    "def ordeninverso(cadena2):\n",
    "    cadena3 = ''\n",
    "\n",
    "    for letra in cadena2:\n",
    "        cadena3 = letra + cadena3\n",
    "    \n",
    "    return cadena3\n",
    "\n",
    "print(ordeninverso(cadena2))"
   ]
  },
  {
   "cell_type": "markdown",
   "metadata": {},
   "source": [
    "#### 9. Dada la lista `[1, 2, 3, 4, 5]`, multiplica todos sus elementos usando un bucle `for` y almacena los resultados en una lista nueva. \n"
   ]
  },
  {
   "cell_type": "code",
   "execution_count": 145,
   "metadata": {},
   "outputs": [
    {
     "name": "stdout",
     "output_type": "stream",
     "text": [
      "El resultado de la multiplicación es [120]\n"
     ]
    }
   ],
   "source": [
    "lista_numeros2 = [1, 2, 3, 4, 5]\n",
    "lista_nueva2 = []\n",
    "multiplicacion2 = 1\n",
    "\n",
    "for numero2 in lista_numeros2:\n",
    "    multiplicacion2 = numero2 * multiplicacion2\n",
    "\n",
    "lista_nueva2.append(multiplicacion2)\n",
    "\n",
    "print(f'El resultado de la multiplicación es {lista_nueva2}')"
   ]
  },
  {
   "cell_type": "markdown",
   "metadata": {},
   "source": [
    "#### 10. Dada la lista `[1, 2, 3, 4, 5, 6, 7, 8, 9, 10]`, utiliza un bucle `for` para contar cuántos números son pares y cuántos son impares."
   ]
  },
  {
   "cell_type": "code",
   "execution_count": 144,
   "metadata": {},
   "outputs": [
    {
     "name": "stdout",
     "output_type": "stream",
     "text": [
      "Hay 5 números impares y 5 números pares\n"
     ]
    }
   ],
   "source": [
    "lista_numeros3 = [1, 2, 3, 4, 5, 6, 7, 8, 9, 10]\n",
    "lista_pares3 = []\n",
    "lista_impares3 = []\n",
    "\n",
    "#tradicional\n",
    "#for numero3 in lista_numeros3:\n",
    "    #if numero3 % 2:\n",
    "        #lista_impares3.append(numero3)\n",
    "    #else:\n",
    "        #lista_pares3.append(numero3)\n",
    "\n",
    "[lista_impares3.append(numero3) if numero3 % 2 else lista_pares3.append(numero3) for numero3 in lista_numeros3]\n",
    "\n",
    "print(f\"Hay {len(lista_impares3)} números impares y {len(lista_pares3)} números pares\")"
   ]
  },
  {
   "cell_type": "markdown",
   "metadata": {},
   "source": [
    "#### 11. Escribe un programa que solicite al usuario un número entero positivo (`n`) y calcule la suma de todos los números primos menores o iguales a `n`. Utiliza un bucle `for` para iterar sobre cada número y verifica si es primo."
   ]
  },
  {
   "cell_type": "code",
   "execution_count": 271,
   "metadata": {},
   "outputs": [
    {
     "name": "stdout",
     "output_type": "stream",
     "text": [
      "La suma de los números primos menores o iguales a 10 es 17\n"
     ]
    }
   ],
   "source": [
    "n1 = int(input('Introduce un número entero positivo'))\n",
    "suma = 0\n",
    "\n",
    "def primo(numero):\n",
    "    if numero < 2:\n",
    "        return False\n",
    "    for i in range(2, int(numero ** 0.5) + 1): #primos son >1\n",
    "        if numero % i == 0:\n",
    "            return False\n",
    "    return True\n",
    "\n",
    "for numero in range(2, n1 + 1): #primos son >1\n",
    "    if primo(numero):\n",
    "        suma += numero\n",
    "\n",
    "print(f'La suma de los números primos menores o iguales a {n1} es {suma}')"
   ]
  },
  {
   "cell_type": "markdown",
   "metadata": {},
   "source": [
    "#### 12. Escribe un programa que solicite al usuario un número entero positivo (`n`) y luego imprima un patrón de asteriscos como el siguiente ejemplo para `n = 5`:\n",
    "```\n",
    "*\n",
    "**\n",
    "***\n",
    "****\n",
    "*****\n",
    "```\n",
    "Utiliza un bucle `for` anidado para controlar la cantidad de asteriscos en cada línea."
   ]
  },
  {
   "cell_type": "code",
   "execution_count": 169,
   "metadata": {},
   "outputs": [
    {
     "name": "stdout",
     "output_type": "stream",
     "text": [
      "* \n",
      "* * \n"
     ]
    }
   ],
   "source": [
    "n2 = int(input('Introduce un número entero positivo'))\n",
    "\n",
    "for filas in range(1, n2 + 1):\n",
    "    for asteriscos in range(filas):\n",
    "        print(\"*\", end=\" \") #end imprime sin salto\n",
    "    print()"
   ]
  },
  {
   "cell_type": "markdown",
   "metadata": {},
   "source": [
    "#### 13. Dado un texto, utiliza un bucle `for` para contar cuántas veces aparece cada palabra en el texto. Ignora mayúsculas/minúsculas y los signos de puntuación."
   ]
  },
  {
   "cell_type": "code",
   "execution_count": 175,
   "metadata": {},
   "outputs": [
    {
     "name": "stdout",
     "output_type": "stream",
     "text": [
      "{'hola': 2, 'es': 1}\n"
     ]
    }
   ],
   "source": [
    "texto_usuario = input('Introduce un texto:')\n",
    "palabras = texto_usuario.split()\n",
    "\n",
    "palabras_repetidas = {}\n",
    "\n",
    "for palabra in palabras:\n",
    "    if palabra in palabras_repetidas:\n",
    "        palabras_repetidas[palabra] += 1\n",
    "    else:\n",
    "        palabras_repetidas[palabra] = 1\n",
    "\n",
    "print(palabras_repetidas)"
   ]
  },
  {
   "cell_type": "markdown",
   "metadata": {},
   "source": [
    "#### 14. Escribe un programa que solicite al usuario dos números enteros positivos (`inicio` y `fin`, donde `inicio <= fin`) y luego calcule la suma de los números pares y la suma de los números impares en ese rango. Utiliza un bucle `for` para iterar sobre cada número y una estructura `if-else` para clasificar y sumar los números pares e impares."
   ]
  },
  {
   "cell_type": "code",
   "execution_count": 270,
   "metadata": {},
   "outputs": [
    {
     "name": "stdout",
     "output_type": "stream",
     "text": [
      "Entre 10 y 30, hay 10 números impares y 10 números pares\n"
     ]
    }
   ],
   "source": [
    "inicio = int(input(\"Escribe un número entero positivo de inicio\"))\n",
    "fin = int(input('Escribe un número entero positivo de fin'))\n",
    "\n",
    "lista_pares4 = []\n",
    "lista_impares4 = []\n",
    "lista_numeros4 = list(range(inicio,fin))\n",
    "\n",
    "if inicio > fin:\n",
    "    print('El número de inicio debe ser menor o igual al final')\n",
    "else:\n",
    "    for numero4 in lista_numeros4:\n",
    "        if numero4 % 2:\n",
    "            lista_impares4.append(numero4)\n",
    "        else:\n",
    "            lista_pares4.append(numero4)\n",
    "            \n",
    "    print(f'Entre {inicio} y {fin}, hay {len(lista_impares4)} números impares y {len(lista_pares4)} números pares')"
   ]
  },
  {
   "cell_type": "markdown",
   "metadata": {},
   "source": [
    "#### 15. Escribe un programa que solicite al usuario un número entero positivo (`n`) y luego identifique todos los números primos menores o iguales a `n`. Para cada número, imprime si es primo o no usando un bucle `for` y una estructura `if-else` para verificar la condición de primalidad."
   ]
  },
  {
   "cell_type": "code",
   "execution_count": 261,
   "metadata": {},
   "outputs": [
    {
     "name": "stdout",
     "output_type": "stream",
     "text": [
      "1 no es un número primo.\n",
      "2 es un número primo.\n",
      "3 es un número primo.\n",
      "4 no es un número primo.\n",
      "5 es un número primo.\n",
      "6 no es un número primo.\n",
      "7 es un número primo.\n",
      "8 no es un número primo.\n",
      "9 no es un número primo.\n",
      "10 no es un número primo.\n"
     ]
    }
   ],
   "source": [
    "n5 = int(input('Escribe un número entero positivo'))\n",
    "\n",
    "for numero in range(1, n5 + 1):\n",
    "    if primo(numero): #Definida en el ejercicio 11\n",
    "        print(f'{numero} es un número primo')\n",
    "    else:\n",
    "        print(f'{numero} no es un número primo')"
   ]
  },
  {
   "cell_type": "markdown",
   "metadata": {},
   "source": [
    "#### 16.Dada una lista de precios `[100, 200, 300, 400, 500]`, aplica un descuento del 10% a todos los precios mayores a `250`. Imprime la lista actualizada de precios después de aplicar el descuento utilizando un bucle `for`. "
   ]
  },
  {
   "cell_type": "code",
   "execution_count": 116,
   "metadata": {},
   "outputs": [
    {
     "name": "stdout",
     "output_type": "stream",
     "text": [
      "100\n",
      "200\n",
      "270.0\n",
      "360.0\n",
      "450.0\n"
     ]
    }
   ],
   "source": [
    "lista_precios = [100, 200, 300, 400, 500]\n",
    "\n",
    "for precio in lista_precios:\n",
    "    if precio > 250:\n",
    "        precio *= 0.9\n",
    "        print(precio)\n",
    "    else:\n",
    "        print(precio)"
   ]
  },
  {
   "cell_type": "markdown",
   "metadata": {},
   "source": [
    "#### 17. Dada una lista de calificaciones de estudiantes `[85, 92, 78, 90, 88]`, clasifica a cada estudiante como \"Aprobado\" si la calificación es mayor o igual a `80` y como \"Reprobado\" si es menor a `80`. Imprime el nombre de cada estudiante junto con su estado utilizando un bucle `for` y una estructura `if-else`.\n"
   ]
  },
  {
   "cell_type": "code",
   "execution_count": 146,
   "metadata": {},
   "outputs": [
    {
     "name": "stdout",
     "output_type": "stream",
     "text": [
      "Con calificación 85, el estudiante ha Aprobado\n",
      "Con calificación 92, el estudiante ha Aprobado\n",
      "Con calificación 78, el estudiante ha Reprobado\n",
      "Con calificación 90, el estudiante ha Aprobado\n",
      "Con calificación 88, el estudiante ha Aprobado\n",
      "\n",
      "\n",
      "{'Jorge': 85, 'Laura': 92, 'Lucas': 78, 'Marina': 90, 'Patricia': 88}\n",
      "\n",
      "\n",
      "Con calificación 85, el estudiante Jorge ha Aprobado\n",
      "Con calificación 92, el estudiante Laura ha Aprobado\n",
      "Con calificación 78, el estudiante Lucas ha Reprobado\n",
      "Con calificación 90, el estudiante Marina ha Aprobado\n",
      "Con calificación 88, el estudiante Patricia ha Aprobado\n"
     ]
    }
   ],
   "source": [
    "calificaciones = [85, 92, 78, 90, 88]\n",
    "\n",
    "for calificacion in calificaciones:\n",
    "    if calificacion >= 80:\n",
    "        print(f'Con calificación {calificacion}, el estudiante ha Aprobado')\n",
    "    else:\n",
    "        print(f'Con calificación {calificacion}, el estudiante ha Reprobado')\n",
    "\n",
    "print('\\n')\n",
    "\n",
    "#Añadiendo diccionario con nombres de estudiantes para imprimir\n",
    "nombres_alumnos = ['Jorge','Laura','Lucas','Marina','Patricia']\n",
    "dic_calificaciones = dict(zip(nombres_alumnos,calificaciones))\n",
    "print(dic_calificaciones)\n",
    "print('\\n')\n",
    "\n",
    "for nombre_alumno,nota_alumno in dic_calificaciones.items():\n",
    "    if dic_calificaciones[nombre_alumno] >= 80:\n",
    "        print(f\"Con calificación {nota_alumno}, el estudiante {nombre_alumno} ha Aprobado\")\n",
    "    else:\n",
    "        print(f\"Con calificación {nota_alumno}, el estudiante {nombre_alumno} ha Reprobado\")"
   ]
  },
  {
   "cell_type": "markdown",
   "metadata": {},
   "source": [
    "\n",
    "#### 18. Escribe un programa que solicite al usuario dos números enteros positivos (`inicio`, `fin`) y otro número entero positivo (`divisor`). Encuentra el número más grande en el rango desde `inicio` hasta `fin` que sea divisible por `divisor`. Utiliza un bucle `for` y una estructura `if-else` para verificar y mantener el registro del número más grande divisible por el divisor dado.\n"
   ]
  },
  {
   "cell_type": "code",
   "execution_count": 198,
   "metadata": {},
   "outputs": [
    {
     "name": "stdout",
     "output_type": "stream",
     "text": [
      "En la serie del 5 al 6, el divisor más alto de 7 es 0\n"
     ]
    }
   ],
   "source": [
    "inicio2 = int(input(\"Escribe un número entero positivo de inicio\"))\n",
    "fin2 = int(input('Escribe un número entero positivo de fin'))\n",
    "divisor2 = int(input(\"Escribe otro número entero positivo como divisor\"))\n",
    "\n",
    "divisor_masalto = 0\n",
    "\n",
    "for numero in range(inicio2, fin2 + 1):\n",
    "    if numero % divisor2 == 0:\n",
    "        divisor_masalto = numero\n",
    "\n",
    "if divisor_masalto >= 0:\n",
    "    print(f'En la serie del {inicio2} al {fin2}, el divisor más alto de {divisor2} es {divisor_masalto}')\n",
    "else:\n",
    "    print(f'En la serie del {inicio2} al {fin2}, no hay números divisibles por {divisor2}')"
   ]
  }
 ],
 "metadata": {
  "kernelspec": {
   "display_name": "hackio",
   "language": "python",
   "name": "python3"
  },
  "language_info": {
   "codemirror_mode": {
    "name": "ipython",
    "version": 3
   },
   "file_extension": ".py",
   "mimetype": "text/x-python",
   "name": "python",
   "nbconvert_exporter": "python",
   "pygments_lexer": "ipython3",
   "version": "3.9.6"
  }
 },
 "nbformat": 4,
 "nbformat_minor": 2
}
