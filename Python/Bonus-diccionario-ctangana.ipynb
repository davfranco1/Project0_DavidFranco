{
 "cells": [
  {
   "cell_type": "markdown",
   "metadata": {},
   "source": [
    "<div style=\"text-align: center;\">\n",
    "  <img src=\"https://github.com/Hack-io-Data/Imagenes/blob/main/01-LogosHackio/logo_celeste@4x.png?raw=true\" alt=\"esquema\" />\n",
    "</div>\n"
   ]
  },
  {
   "cell_type": "markdown",
   "metadata": {},
   "source": [
    "# Ejercicio cTangana\n",
    "\n",
    "En este ejercicio tiene como objetivo principal que practiques y domines varias habilidades en Python, como la manipulación de *strings*, el uso de estructuras de datos como listas y diccionarios, y la implementación de técnicas básicas de conteo y ordenamiento. Los pasos que deberéis seguir para realizar este ejercicio son: \n",
    "\n",
    "1. Busca la letra de C. Tangana, Andrés Calamaro - Hong Kong y almacenala como una cadena de strings en `letra_cancion`.\n",
    "\n",
    "2. Crea una lista `palabras` utilizando `letra_cancion`.\n",
    "\n",
    "3. Crea un diccionario `frecuencia_palabras` en el que aparezca como claves cada una de las palabras de `letra_cancion` y sus valores que sea el numero de ocurrencia\n",
    "\n",
    "4. Ordena alfabeticamente las claves de `frecuencia_palabras` \n",
    "\n",
    "5. Crea un nuevo diccionario llamado `frecuencia_palabras2` con el orden obtenido en la pregunta 4.\n",
    "\n",
    "6. Ordenar los valores de `frecuencia_palabras2` de forma ascendente.\n",
    "\n",
    "***HINT***: Ordenar los valores de un diccionario es más complicado que ordenar las claves porque los valores de un diccionario no son únicos. Por lo tanto, no puedes usar la misma forma en que ordenaste las claves del diccionario para ordenar los valores del diccionario. La forma de ordenar un diccionario por valor es utilizar las funciones sorted y operator.itemgetter. \n"
   ]
  },
  {
   "cell_type": "code",
   "execution_count": 2,
   "metadata": {},
   "outputs": [],
   "source": [
    "letra_cancion = \"\"\"Con llevar todo\n",
    "Lo que no hay en Hong Kong no exi-\n",
    "Lo que no hay en Hong Kong es que no existe\n",
    "Salimos a la calle por tabaco\n",
    "Volvimos sin tabaco ni mechero\n",
    "Tomamos hasta el agua del florero\n",
    "Aquello fue peor que Puerto Hurraco\n",
    "Me cago en las personas que se rajan\n",
    "Muy antes de que se acabe la noche\n",
    "Peinábamos perico con navaja\n",
    "En el salpicadero de tu coche\n",
    "Tengo una flor en el culo\n",
    "Y un camello en Hong Kong\n",
    "Tengo un cohete en el pantalón\n",
    "Tengo una flor en el culo\n",
    "Y una geisha en Japón\n",
    "Tus banderillas en el corazón\n",
    "Hagamos que parezca un accidente\n",
    "Decirme que no tengo que ir a casa\n",
    "Espero que esto dure para siempre\n",
    "Sabemos qué es torear en peores plazas\n",
    "Historias que jamás pueden contarse\n",
    "Batallas que no pueden repetirse\n",
    "Victorias para el que supo quedarse\n",
    "¿Pa qué cojones sirve arrepentirse?\n",
    "Tengo una flor en el culo\n",
    "Y un camello en Hong Kong\n",
    "Tengo un cohete en el pantalón\n",
    "Tengo una flor en el culo\n",
    "Y una geisha en Japón\n",
    "Tus banderillas en el corazón\n",
    "Tengo una flor en el culo\n",
    "Y un camello en Hong Kong\n",
    "Tengo un cohete en el pantalón\n",
    "Tengo una flor en el culo\n",
    "Y una geisha en Japón\n",
    "Tus banderillas en el corazón\"\"\""
   ]
  },
  {
   "cell_type": "code",
   "execution_count": 25,
   "metadata": {},
   "outputs": [
    {
     "name": "stdout",
     "output_type": "stream",
     "text": [
      "['Con', 'llevar', 'todo', 'Lo', 'que', 'no', 'hay', 'en', 'Hong', 'Kong', 'no', 'exi-', 'Lo', 'que', 'no', 'hay', 'en', 'Hong', 'Kong', 'es', 'que', 'no', 'existe', 'Salimos', 'a', 'la', 'calle', 'por', 'tabaco', 'Volvimos', 'sin', 'tabaco', 'ni', 'mechero', 'Tomamos', 'hasta', 'el', 'agua', 'del', 'florero', 'Aquello', 'fue', 'peor', 'que', 'Puerto', 'Hurraco', 'Me', 'cago', 'en', 'las', 'personas', 'que', 'se', 'rajan', 'Muy', 'antes', 'de', 'que', 'se', 'acabe', 'la', 'noche', 'Peinábamos', 'perico', 'con', 'navaja', 'En', 'el', 'salpicadero', 'de', 'tu', 'coche', 'Tengo', 'una', 'flor', 'en', 'el', 'culo', 'Y', 'un', 'camello', 'en', 'Hong', 'Kong', 'Tengo', 'un', 'cohete', 'en', 'el', 'pantalón', 'Tengo', 'una', 'flor', 'en', 'el', 'culo', 'Y', 'una', 'geisha', 'en', 'Japón', 'Tus', 'banderillas', 'en', 'el', 'corazón', 'Hagamos', 'que', 'parezca', 'un', 'accidente', 'Decirme', 'que', 'no', 'tengo', 'que', 'ir', 'a', 'casa', 'Espero', 'que', 'esto', 'dure', 'para', 'siempre', 'Sabemos', 'qué', 'es', 'torear', 'en', 'peores', 'plazas', 'Historias', 'que', 'jamás', 'pueden', 'contarse', 'Batallas', 'que', 'no', 'pueden', 'repetirse', 'Victorias', 'para', 'el', 'que', 'supo', 'quedarse', '¿Pa', 'qué', 'cojones', 'sirve', 'arrepentirse?', 'Tengo', 'una', 'flor', 'en', 'el', 'culo', 'Y', 'un', 'camello', 'en', 'Hong', 'Kong', 'Tengo', 'un', 'cohete', 'en', 'el', 'pantalón', 'Tengo', 'una', 'flor', 'en', 'el', 'culo', 'Y', 'una', 'geisha', 'en', 'Japón', 'Tus', 'banderillas', 'en', 'el', 'corazón', 'Tengo', 'una', 'flor', 'en', 'el', 'culo', 'Y', 'un', 'camello', 'en', 'Hong', 'Kong', 'Tengo', 'un', 'cohete', 'en', 'el', 'pantalón', 'Tengo', 'una', 'flor', 'en', 'el', 'culo', 'Y', 'una', 'geisha', 'en', 'Japón', 'Tus', 'banderillas', 'en', 'el', 'corazón']\n",
      "[1, 1, 1, 2, 13, 6, 2, 22, 5, 5, 6, 1, 2, 13, 6, 2, 22, 5, 5, 2, 13, 6, 1, 1, 2, 2, 1, 1, 2, 1, 1, 2, 1, 1, 1, 1, 15, 1, 1, 1, 1, 1, 1, 13, 1, 1, 1, 1, 22, 1, 1, 13, 2, 1, 1, 1, 2, 13, 2, 1, 2, 1, 1, 1, 1, 1, 1, 15, 1, 2, 1, 1, 9, 9, 6, 22, 15, 6, 6, 7, 3, 22, 5, 5, 9, 7, 3, 22, 15, 3, 9, 9, 6, 22, 15, 6, 6, 9, 3, 22, 3, 3, 3, 22, 15, 3, 1, 13, 1, 7, 1, 1, 13, 6, 1, 13, 1, 2, 1, 1, 13, 1, 1, 2, 1, 1, 2, 2, 1, 22, 1, 1, 1, 13, 1, 2, 1, 1, 13, 6, 2, 1, 1, 2, 15, 13, 1, 1, 1, 2, 1, 1, 1, 9, 9, 6, 22, 15, 6, 6, 7, 3, 22, 5, 5, 9, 7, 3, 22, 15, 3, 9, 9, 6, 22, 15, 6, 6, 9, 3, 22, 3, 3, 3, 22, 15, 3, 9, 9, 6, 22, 15, 6, 6, 7, 3, 22, 5, 5, 9, 7, 3, 22, 15, 3, 9, 9, 6, 22, 15, 6, 6, 9, 3, 22, 3, 3, 3, 22, 15, 3]\n"
     ]
    }
   ],
   "source": [
    "palabras = letra_cancion.split() #añadir palabras a lista\n",
    "print(palabras)\n",
    "\n",
    "cuentapalabras = [palabras.count(palabra) for palabra in palabras] #lista que cuenta palabras\n",
    "print(cuentapalabras)"
   ]
  },
  {
   "cell_type": "code",
   "execution_count": 38,
   "metadata": {},
   "outputs": [
    {
     "name": "stdout",
     "output_type": "stream",
     "text": [
      "{'Con': 1, 'llevar': 1, 'todo': 1, 'Lo': 2, 'que': 13, 'no': 6, 'hay': 2, 'en': 22, 'Hong': 5, 'Kong': 5, 'exi-': 1, 'es': 2, 'existe': 1, 'Salimos': 1, 'a': 2, 'la': 2, 'calle': 1, 'por': 1, 'tabaco': 2, 'Volvimos': 1, 'sin': 1, 'ni': 1, 'mechero': 1, 'Tomamos': 1, 'hasta': 1, 'el': 15, 'agua': 1, 'del': 1, 'florero': 1, 'Aquello': 1, 'fue': 1, 'peor': 1, 'Puerto': 1, 'Hurraco': 1, 'Me': 1, 'cago': 1, 'las': 1, 'personas': 1, 'se': 2, 'rajan': 1, 'Muy': 1, 'antes': 1, 'de': 2, 'acabe': 1, 'noche': 1, 'Peinábamos': 1, 'perico': 1, 'con': 1, 'navaja': 1, 'En': 1, 'salpicadero': 1, 'tu': 1, 'coche': 1, 'Tengo': 9, 'una': 9, 'flor': 6, 'culo': 6, 'Y': 6, 'un': 7, 'camello': 3, 'cohete': 3, 'pantalón': 3, 'geisha': 3, 'Japón': 3, 'Tus': 3, 'banderillas': 3, 'corazón': 3, 'Hagamos': 1, 'parezca': 1, 'accidente': 1, 'Decirme': 1, 'tengo': 1, 'ir': 1, 'casa': 1, 'Espero': 1, 'esto': 1, 'dure': 1, 'para': 2, 'siempre': 1, 'Sabemos': 1, 'qué': 2, 'torear': 1, 'peores': 1, 'plazas': 1, 'Historias': 1, 'jamás': 1, 'pueden': 2, 'contarse': 1, 'Batallas': 1, 'repetirse': 1, 'Victorias': 1, 'supo': 1, 'quedarse': 1, '¿Pa': 1, 'cojones': 1, 'sirve': 1, 'arrepentirse?': 1}\n"
     ]
    }
   ],
   "source": [
    "#Puedo tener 2 listas y hacer el zip o puedo añadir palabras a keys con dict.fromkeys(palabras,0) y después hacer el for para contar palabras con frecuencia_palabras[palabra] +=1\n",
    "\n",
    "frecuencia_palabras = dict(zip(palabras,cuentapalabras))\n",
    "print(frecuencia_palabras)"
   ]
  },
  {
   "cell_type": "code",
   "execution_count": 37,
   "metadata": {},
   "outputs": [
    {
     "data": {
      "text/plain": [
       "{'Aquello': 1,\n",
       " 'Batallas': 1,\n",
       " 'Con': 1,\n",
       " 'Decirme': 1,\n",
       " 'En': 1,\n",
       " 'Espero': 1,\n",
       " 'Hagamos': 1,\n",
       " 'Historias': 1,\n",
       " 'Hong': 5,\n",
       " 'Hurraco': 1,\n",
       " 'Japón': 3,\n",
       " 'Kong': 5,\n",
       " 'Lo': 2,\n",
       " 'Me': 1,\n",
       " 'Muy': 1,\n",
       " 'Peinábamos': 1,\n",
       " 'Puerto': 1,\n",
       " 'Sabemos': 1,\n",
       " 'Salimos': 1,\n",
       " 'Tengo': 9,\n",
       " 'Tomamos': 1,\n",
       " 'Tus': 3,\n",
       " 'Victorias': 1,\n",
       " 'Volvimos': 1,\n",
       " 'Y': 6,\n",
       " 'a': 2,\n",
       " 'acabe': 1,\n",
       " 'accidente': 1,\n",
       " 'agua': 1,\n",
       " 'antes': 1,\n",
       " 'arrepentirse?': 1,\n",
       " 'banderillas': 3,\n",
       " 'cago': 1,\n",
       " 'calle': 1,\n",
       " 'camello': 3,\n",
       " 'casa': 1,\n",
       " 'coche': 1,\n",
       " 'cohete': 3,\n",
       " 'cojones': 1,\n",
       " 'con': 1,\n",
       " 'contarse': 1,\n",
       " 'corazón': 3,\n",
       " 'culo': 6,\n",
       " 'de': 2,\n",
       " 'del': 1,\n",
       " 'dure': 1,\n",
       " 'el': 15,\n",
       " 'en': 22,\n",
       " 'es': 2,\n",
       " 'esto': 1,\n",
       " 'exi-': 1,\n",
       " 'existe': 1,\n",
       " 'flor': 6,\n",
       " 'florero': 1,\n",
       " 'fue': 1,\n",
       " 'geisha': 3,\n",
       " 'hasta': 1,\n",
       " 'hay': 2,\n",
       " 'ir': 1,\n",
       " 'jamás': 1,\n",
       " 'la': 2,\n",
       " 'las': 1,\n",
       " 'llevar': 1,\n",
       " 'mechero': 1,\n",
       " 'navaja': 1,\n",
       " 'ni': 1,\n",
       " 'no': 6,\n",
       " 'noche': 1,\n",
       " 'pantalón': 3,\n",
       " 'para': 2,\n",
       " 'parezca': 1,\n",
       " 'peor': 1,\n",
       " 'peores': 1,\n",
       " 'perico': 1,\n",
       " 'personas': 1,\n",
       " 'plazas': 1,\n",
       " 'por': 1,\n",
       " 'pueden': 2,\n",
       " 'que': 13,\n",
       " 'quedarse': 1,\n",
       " 'qué': 2,\n",
       " 'rajan': 1,\n",
       " 'repetirse': 1,\n",
       " 'salpicadero': 1,\n",
       " 'se': 2,\n",
       " 'siempre': 1,\n",
       " 'sin': 1,\n",
       " 'sirve': 1,\n",
       " 'supo': 1,\n",
       " 'tabaco': 2,\n",
       " 'tengo': 1,\n",
       " 'todo': 1,\n",
       " 'torear': 1,\n",
       " 'tu': 1,\n",
       " 'un': 7,\n",
       " 'una': 9,\n",
       " '¿Pa': 1}"
      ]
     },
     "execution_count": 37,
     "metadata": {},
     "output_type": "execute_result"
    }
   ],
   "source": [
    "#Ordeno alfabéticamente keys del diccionario original con sorted\n",
    "dict(sorted(frecuencia_palabras.items()))"
   ]
  },
  {
   "cell_type": "code",
   "execution_count": 43,
   "metadata": {},
   "outputs": [
    {
     "name": "stdout",
     "output_type": "stream",
     "text": [
      "{'Aquello': 1, 'Batallas': 1, 'Con': 1, 'Decirme': 1, 'En': 1, 'Espero': 1, 'Hagamos': 1, 'Historias': 1, 'Hong': 5, 'Hurraco': 1, 'Japón': 3, 'Kong': 5, 'Lo': 2, 'Me': 1, 'Muy': 1, 'Peinábamos': 1, 'Puerto': 1, 'Sabemos': 1, 'Salimos': 1, 'Tengo': 9, 'Tomamos': 1, 'Tus': 3, 'Victorias': 1, 'Volvimos': 1, 'Y': 6, 'a': 2, 'acabe': 1, 'accidente': 1, 'agua': 1, 'antes': 1, 'arrepentirse?': 1, 'banderillas': 3, 'cago': 1, 'calle': 1, 'camello': 3, 'casa': 1, 'coche': 1, 'cohete': 3, 'cojones': 1, 'con': 1, 'contarse': 1, 'corazón': 3, 'culo': 6, 'de': 2, 'del': 1, 'dure': 1, 'el': 15, 'en': 22, 'es': 2, 'esto': 1, 'exi-': 1, 'existe': 1, 'flor': 6, 'florero': 1, 'fue': 1, 'geisha': 3, 'hasta': 1, 'hay': 2, 'ir': 1, 'jamás': 1, 'la': 2, 'las': 1, 'llevar': 1, 'mechero': 1, 'navaja': 1, 'ni': 1, 'no': 6, 'noche': 1, 'pantalón': 3, 'para': 2, 'parezca': 1, 'peor': 1, 'peores': 1, 'perico': 1, 'personas': 1, 'plazas': 1, 'por': 1, 'pueden': 2, 'que': 13, 'quedarse': 1, 'qué': 2, 'rajan': 1, 'repetirse': 1, 'salpicadero': 1, 'se': 2, 'siempre': 1, 'sin': 1, 'sirve': 1, 'supo': 1, 'tabaco': 2, 'tengo': 1, 'todo': 1, 'torear': 1, 'tu': 1, 'un': 7, 'una': 9, '¿Pa': 1}\n"
     ]
    }
   ],
   "source": [
    "#Guardo el resultado en nuevo diccionario\n",
    "\n",
    "frecuencia_palabras2 = dict(sorted(frecuencia_palabras.items()))\n",
    "print(frecuencia_palabras2)"
   ]
  },
  {
   "cell_type": "code",
   "execution_count": 44,
   "metadata": {},
   "outputs": [
    {
     "name": "stdout",
     "output_type": "stream",
     "text": [
      "{'Aquello': 1, 'Batallas': 1, 'Con': 1, 'Decirme': 1, 'En': 1, 'Espero': 1, 'Hagamos': 1, 'Historias': 1, 'Hurraco': 1, 'Me': 1, 'Muy': 1, 'Peinábamos': 1, 'Puerto': 1, 'Sabemos': 1, 'Salimos': 1, 'Tomamos': 1, 'Victorias': 1, 'Volvimos': 1, 'acabe': 1, 'accidente': 1, 'agua': 1, 'antes': 1, 'arrepentirse?': 1, 'cago': 1, 'calle': 1, 'casa': 1, 'coche': 1, 'cojones': 1, 'con': 1, 'contarse': 1, 'del': 1, 'dure': 1, 'esto': 1, 'exi-': 1, 'existe': 1, 'florero': 1, 'fue': 1, 'hasta': 1, 'ir': 1, 'jamás': 1, 'las': 1, 'llevar': 1, 'mechero': 1, 'navaja': 1, 'ni': 1, 'noche': 1, 'parezca': 1, 'peor': 1, 'peores': 1, 'perico': 1, 'personas': 1, 'plazas': 1, 'por': 1, 'quedarse': 1, 'rajan': 1, 'repetirse': 1, 'salpicadero': 1, 'siempre': 1, 'sin': 1, 'sirve': 1, 'supo': 1, 'tengo': 1, 'todo': 1, 'torear': 1, 'tu': 1, '¿Pa': 1, 'Lo': 2, 'a': 2, 'de': 2, 'es': 2, 'hay': 2, 'la': 2, 'para': 2, 'pueden': 2, 'qué': 2, 'se': 2, 'tabaco': 2, 'Japón': 3, 'Tus': 3, 'banderillas': 3, 'camello': 3, 'cohete': 3, 'corazón': 3, 'geisha': 3, 'pantalón': 3, 'Hong': 5, 'Kong': 5, 'Y': 6, 'culo': 6, 'flor': 6, 'no': 6, 'un': 7, 'Tengo': 9, 'una': 9, 'que': 13, 'el': 15, 'en': 22}\n"
     ]
    }
   ],
   "source": [
    "#Ordeno de manera ascendente values del nuevo dicc con itemgetter\n",
    "\n",
    "import operator\n",
    "frecuencia_palabras2 = dict(sorted(frecuencia_palabras2.items(), key=operator.itemgetter(1)))\n",
    "print(frecuencia_palabras2)\n"
   ]
  }
 ],
 "metadata": {
  "kernelspec": {
   "display_name": "Python 3",
   "language": "python",
   "name": "python3"
  },
  "language_info": {
   "codemirror_mode": {
    "name": "ipython",
    "version": 3
   },
   "file_extension": ".py",
   "mimetype": "text/x-python",
   "name": "python",
   "nbconvert_exporter": "python",
   "pygments_lexer": "ipython3",
   "version": "3.9.6"
  }
 },
 "nbformat": 4,
 "nbformat_minor": 2
}
