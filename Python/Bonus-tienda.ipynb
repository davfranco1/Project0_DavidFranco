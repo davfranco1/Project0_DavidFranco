{
 "cells": [
  {
   "cell_type": "markdown",
   "metadata": {},
   "source": [
    "<div style=\"text-align: center;\">\n",
    "  <img src=\"https://github.com/Hack-io-Data/Imagenes/blob/main/01-LogosHackio/logo_celeste@4x.png?raw=true\" alt=\"esquema\" />\n",
    "</div>\n"
   ]
  },
  {
   "cell_type": "markdown",
   "metadata": {},
   "source": [
    "En este ejercicio, se te pedirá que escribas un programa en Python que utilice condicionales para determinar el monto final de una compra en una tienda en línea, después de aplicar un descuento. El programa debe hacer lo siguiente:\n",
    "\n",
    "1. Solicita al usuario que ingrese el precio original de un artículo.\n",
    "\n",
    "2. Pregunta al usuario si tiene un cupón de descuento (respuesta sí o no).\n",
    "\n",
    "3. Si el usuario responde que sí, solicita que ingrese el valor del cupón de descuento.\n",
    "\n",
    "4. Aplica el descuento al precio original del artículo, siempre y cuando el valor del cupón sea válido (es decir, mayor a cero). Por ejemplo, descuento de 15€. \n",
    "\n",
    "5. Muestra el precio final de la compra, teniendo en cuenta el descuento aplicado o sin él. \n",
    "\n",
    "6. Recuerda utilizar estructuras de control de flujo como if, elif y else para llevar a cabo estas acciones en tu programa de Python."
   ]
  },
  {
   "cell_type": "code",
   "execution_count": 19,
   "metadata": {},
   "outputs": [
    {
     "name": "stdout",
     "output_type": "stream",
     "text": [
      "El valor del cupón debe ser mayor a 0\n",
      "El precio del artículo sin descuento es de 50\n"
     ]
    }
   ],
   "source": [
    "precio = int(input(\"Ingresa precio original de artículo\"))\n",
    "cupon = str(input(\"Tienes un cupón de descuento? Responde si o no\"))\n",
    "\n",
    "if cupon == \"si\":\n",
    "    valorcupon = int(input(\"Ingresa el valor del cupón\"))\n",
    "    \n",
    "    if valorcupon >= 0:\n",
    "        preciofinal = precio - valorcupon\n",
    "        print(f\"El precio del artículo con un descuento de {valorcupon}€, es de {preciofinal}€\")\n",
    "    \n",
    "    else:\n",
    "        print(\"El valor del cupón debe ser mayor a 0\")\n",
    "        print(f\"El precio del artículo sin descuento es de {precio}€\")\n",
    "\n",
    "else:\n",
    "    print(f\"El precio del artículo sin descuento es de {precio}€\")\n"
   ]
  },
  {
   "cell_type": "markdown",
   "metadata": {},
   "source": [
    "Modifica el programa anterior para que el usuario ingrese un porcentaje de descuento en lugar de un valor fijo (por ejemplo, 30%). Aplica el descuento en base al porcentaje ingresado."
   ]
  },
  {
   "cell_type": "code",
   "execution_count": 22,
   "metadata": {},
   "outputs": [
    {
     "name": "stdout",
     "output_type": "stream",
     "text": [
      "El precio del artículo con un descuento de 10%, es de 45.0\n"
     ]
    }
   ],
   "source": [
    "precio = int(input(\"Ingresa precio original de artículo\"))\n",
    "cupon = str(input(\"Tienes un cupón de descuento? Responde si o no\"))\n",
    "\n",
    "if cupon == \"si\":\n",
    "    valorcupon = input(\"Ingresa el porcentaje de descuento\")\n",
    "    valorcupon = int(valorcupon.rstrip(\"%\"))\n",
    "\n",
    "    if valorcupon >= 0:\n",
    "        preciofinal = precio - (precio*valorcupon/100)\n",
    "        print(f\"El precio del artículo con un descuento del {valorcupon}%, es de {preciofinal}€\")\n",
    "    \n",
    "    else:\n",
    "        print(\"El porcentaje de descuento debe ser mayor a 0\")\n",
    "        print(f\"El precio del artículo sin descuento es de {precio}€\")\n",
    "\n",
    "else:\n",
    "    print(f\"El precio del artículo sin descuento es de {precio}€\")"
   ]
  },
  {
   "cell_type": "markdown",
   "metadata": {},
   "source": [
    "Modifica el programa anterior agregando un límite al descuento, donde el descuento mínimo sea del 5% y el máximo del 50%. Si el usuario ingresa un porcentaje fuera de este rango, notifíquele y aplique el descuento mínimo o máximo según sea el caso."
   ]
  },
  {
   "cell_type": "code",
   "execution_count": 42,
   "metadata": {},
   "outputs": [
    {
     "name": "stdout",
     "output_type": "stream",
     "text": [
      "El porcentaje de descuento no puede ser mayor a 50%. Se aplicará un descuento del 50%, para un precio final de 25.0\n"
     ]
    }
   ],
   "source": [
    "precio = int(input(\"Ingresa precio original de artículo\"))\n",
    "cupon = str(input(\"Tienes un cupón de descuento? Responde si o no\"))\n",
    "\n",
    "if cupon == \"si\":\n",
    "    valorcupon = input(\"Ingresa el porcentaje de descuento\")\n",
    "    valorcupon = int(valorcupon.rstrip(\"%\"))\n",
    "\n",
    "    if valorcupon in range (5,50):\n",
    "        preciofinal = precio - (precio*valorcupon/100)\n",
    "        print(f\"El precio del artículo con un descuento del {valorcupon}%, es de {preciofinal}€\")\n",
    "\n",
    "    elif valorcupon <5:\n",
    "        valorcupon = 5\n",
    "        preciofinal = precio - (precio*valorcupon/100)\n",
    "        print(f\"El porcentaje de descuento no puede ser menor a 5%. Se aplicará un descuento del {valorcupon}%, para un precio final de {preciofinal}€\")\n",
    "\n",
    "    else:\n",
    "        valorcupon = 50\n",
    "        preciofinal = precio - (precio*valorcupon/100)\n",
    "        print(f\"El porcentaje de descuento no puede ser mayor a 50%. Se aplicará un descuento del {valorcupon}%, para un precio final de {preciofinal}€\")\n",
    "        \n",
    "else:\n",
    "    print(f\"El precio del artículo sin descuento es de {precio}€\")"
   ]
  },
  {
   "cell_type": "markdown",
   "metadata": {},
   "source": [
    "Crea un programa nuevo que permita al usuario ingresar varios artículos, cada uno con su precio original y cupón de descuento. Aplica los descuentos correspondientes a cada producto y muestra el monto total final de la compra."
   ]
  },
  {
   "cell_type": "code",
   "execution_count": 31,
   "metadata": {},
   "outputs": [
    {
     "name": "stdout",
     "output_type": "stream",
     "text": [
      "El precio total de la compra es de 25.0\n"
     ]
    }
   ],
   "source": [
    "totalcompra = 0\n",
    "\n",
    "while True:\n",
    "    precio = int(input(\"Ingresa precio original de artículo. Si no quieres agregar más artículos indica precio 0\"))\n",
    "    if precio == 0:\n",
    "        break\n",
    "\n",
    "    descuento = input(\"Ingresa el porcentaje de descuento\")\n",
    "    descuento = int(descuento.rstrip(\"%\"))\n",
    "\n",
    "    totalcompra = totalcompra + precio - (precio*descuento/100)\n",
    "\n",
    "print(f\"El precio total de la compra es de {totalcompra}€\")"
   ]
  },
  {
   "cell_type": "markdown",
   "metadata": {},
   "source": [
    "Crea un nuevo programa que permita aplicar descuentos por categorías. En este caso, nuestra tienda aplicará descuentos en función de la categoría (por ejemplo, electrónica, ropa, juguetes). Pregunta al usuario a que categoría pertenece su producto y aplica el descuento correspondiente a la categoría. Debes solicitar al usuario que ingrese la categoría del articulo y el precio para aplicarle el descuento. "
   ]
  },
  {
   "cell_type": "code",
   "execution_count": 41,
   "metadata": {},
   "outputs": [
    {
     "name": "stdout",
     "output_type": "stream",
     "text": [
      "La categoría no es válida, manteniéndose el precio original de 0\n"
     ]
    }
   ],
   "source": [
    "precio = int(input(\"Ingresa precio original de artículo\"))\n",
    "categoria = str(input(\"Ingresa la categoría para determinar el descuento: electrónica, ropa o jueguetes\"))\n",
    "\n",
    "if categoria == \"electrónica\":\n",
    "    descuentocategoria = 5\n",
    "    preciofinal = precio - (precio*descuentocategoria/100)\n",
    "    print(f\"A la categoría electrónica, se aplica un descuento del {descuentocategoria}%, siendo el precio final de {preciofinal}€\")\n",
    "\n",
    "elif categoria == \"ropa\":\n",
    "    descuentocategoria = 20\n",
    "    preciofinal = precio - (precio*descuentocategoria/100)\n",
    "    print(f\"A la categoría ropa, se aplica un descuento del {descuentocategoria}%, siendo el precio final de {preciofinal}€\")\n",
    "\n",
    "elif categoria == \"juguetes\":\n",
    "    descuentocategoria = 15\n",
    "    preciofinal = precio - (precio*descuentocategoria/100)\n",
    "    print(f\"A la categoría juguetes, se aplica un descuento del {descuentocategoria}%, siendo el precio final de {preciofinal}€\")\n",
    "\n",
    "else:\n",
    "    print(f\"La categoría no es válida, manteniéndose el precio original de {precio}€\")"
   ]
  },
  {
   "cell_type": "markdown",
   "metadata": {},
   "source": [
    "Crea un nuevo programa que aplique descuentos automáticos en función de la fecha actual. Aplica un descuento del 10% en compras realizadas entre lunes y viernes o un descuento del 15% en compras realizadas durante los fines de semana."
   ]
  },
  {
   "cell_type": "code",
   "execution_count": 64,
   "metadata": {},
   "outputs": [
    {
     "name": "stdout",
     "output_type": "stream",
     "text": [
      "De lunes a viernes tienes un descuento del 10%. El nuevo total de tu compra es 45.0€\n"
     ]
    }
   ],
   "source": [
    "from datetime import date\n",
    "\n",
    "fechahoy = date.today()\n",
    "diasemana = fechahoy.weekday()\n",
    "totalcompra =  int(input(\"Introduce el total de tu compra:\"))\n",
    "\n",
    "if diasemana in range(1,5):\n",
    "    preciofinal = totalcompra*0.9\n",
    "    print(f\"De lunes a viernes tienes un descuento del 10%. El nuevo total de tu compra es {preciofinal}€\")\n",
    "\n",
    "else:\n",
    "    preciofinal = totalcompra*0.85\n",
    "    print(f\"Los fines de semana tienes un descuento del 15%. El nuevo total de tu compra es {preciofinal}€\")\n"
   ]
  },
  {
   "cell_type": "markdown",
   "metadata": {},
   "source": [
    "Crea un programa nuevo que implemente un sistema de membresía donde los usuarios registrados obtengan un descuento adicional del 5%. Solicita al usuario que ingrese su nombre de usuario y contraseña para verificar su membresía y aplique el descuento adicional si corresponde. \n",
    "\n",
    "📝 Nota: Para este ejercicio solo tendremos un usuario registrado. El usuario es `USUARIO` y la contraseña es  `USUARIO123`. \n"
   ]
  },
  {
   "cell_type": "code",
   "execution_count": 60,
   "metadata": {},
   "outputs": [
    {
     "name": "stdout",
     "output_type": "stream",
     "text": [
      "¡Enhorabuena! Por ser usuario, ahorras 25.0€, para un nuevo total de 475.0€\n"
     ]
    }
   ],
   "source": [
    "clientes = {\"usuario\" : \"USUARIO\",\n",
    "            \"contraseña\": \"USUARIO123\"}\n",
    "\n",
    "totalcompra =  int(input(\"Introduce el total de tu compra:\"))\n",
    "usuario =  str(input(\"Introduce tu usuario:\"))\n",
    "contraseña =  str(input(\"Introduce tu contraseña:\"))\n",
    "\n",
    "if usuario in clientes[\"usuario\"] and contraseña in clientes[\"contraseña\"]:\n",
    "    descuento = totalcompra*0.05\n",
    "    preciofinal = totalcompra*0.95\n",
    "    print(f\"¡Enhorabuena! Por ser usuario, ahorras {descuento}€, para un nuevo total de {preciofinal}€\")\n",
    "\n",
    "else:\n",
    "    print(f\"No te encuentras registrado, manteniéndose el total original de {totalcompra}€\")"
   ]
  },
  {
   "cell_type": "markdown",
   "metadata": {},
   "source": [
    "Crea un nuevo programa que ofrezca un descuento del 10% adicional si el usuario compra más de 5 artículos del mismo tipo. Debes verificar la cantidad de productos comprados y aplicar el descuento adicional si corresponde.\n"
   ]
  },
  {
   "cell_type": "code",
   "execution_count": 45,
   "metadata": {},
   "outputs": [
    {
     "name": "stdout",
     "output_type": "stream",
     "text": [
      "¡Enhorabuena! Por llevar más de 5 productos del mismo tipo ahorras 10.0 euros. El nuevo total de tu compra es de 90.0 euros\n"
     ]
    }
   ],
   "source": [
    "numeroproductos = int(input(\"Introduce el número de productos del mismo tipo en tu compra:\"))\n",
    "totalcompra =  int(input(\"Introduce el total de tu compra:\"))\n",
    "\n",
    "if numeroproductos > 5:\n",
    "    totaldescuento = totalcompra*.1\n",
    "    preciofinal = totalcompra - totaldescuento\n",
    "    print(f\"¡Enhorabuena! Por llevar más de 5 productos del mismo tipo ahorras {totaldescuento}€. El nuevo total de tu compra es de {preciofinal} euros.\")\n",
    "\n",
    "else:\n",
    "    productosrestantes = 5 - numeroproductos\n",
    "    print(f\"El total de tu compra es de {totalcompra} euros. Compra {productosrestantes} productos más del mismo tipo y ahorra un 10%.\")"
   ]
  },
  {
   "cell_type": "markdown",
   "metadata": {},
   "source": [
    "Crea un nuevo programa que ofrezca descuentos progresivos en función del volumen de compra. Aplica un descuento del 5% para compras entre 100€ y 200€, un descuento del 10% para compras entre 200€ y 500€ y un descuento del 15% para compras superiores a 500€."
   ]
  },
  {
   "cell_type": "code",
   "execution_count": 54,
   "metadata": {},
   "outputs": [
    {
     "name": "stdout",
     "output_type": "stream",
     "text": [
      "Para compras de más de 500€, se aplica un descuento del 15%, siendo el precio final de 510.0€\n"
     ]
    }
   ],
   "source": [
    "totalcompra =  int(input(\"Introduce el total de tu compra:\"))\n",
    "\n",
    "if totalcompra in range(100,200):\n",
    "    descuentovolumen = 5\n",
    "    preciofinal = totalcompra - (totalcompra*descuentovolumen/100)\n",
    "    print(f\"Para compras entre 100 y 200€, se aplica un descuento del {descuentovolumen}%, siendo el precio final de {preciofinal}€\")\n",
    "\n",
    "elif totalcompra in range(200,500):\n",
    "    descuentovolumen = 10\n",
    "    preciofinal = totalcompra - (totalcompra*descuentovolumen/100)\n",
    "    print(f\"Para compras entre 100 y 200€, se aplica un descuento del {descuentovolumen}%, siendo el precio final de {preciofinal}€\")\n",
    "\n",
    "elif totalcompra > 500:\n",
    "    descuentovolumen = 15\n",
    "    preciofinal = totalcompra - (totalcompra*descuentovolumen/100)\n",
    "    print(f\"Para compras de más de 500€, se aplica un descuento del {descuentovolumen}%, siendo el precio final de {preciofinal}€\")\n",
    "\n",
    "else:\n",
    "    print(f\"El total de tu compra es menor a 100€, por lo que no aplican descuentos, manteniéndose el total original de {precio}€\")"
   ]
  },
  {
   "cell_type": "markdown",
   "metadata": {},
   "source": [
    "Crea un nuevo programa  que ofrezca un descuento adicional del 3% si el usuario paga con tarjeta de crédito o débito. Solicita al usuario que ingrese el método de pago y el descuento original, por último aplica el descuento si corresponde."
   ]
  },
  {
   "cell_type": "code",
   "execution_count": 39,
   "metadata": {},
   "outputs": [
    {
     "name": "stdout",
     "output_type": "stream",
     "text": [
      "Su pago con tarjeta conlleva un descuento adicional del 3%,\n",
      "al que sumamos su descuento original del 10%, para un precio final de 8.729999999999999\n"
     ]
    }
   ],
   "source": [
    "precio = int(input(\"Ingresa precio original de artículo\"))\n",
    "descuento = input(\"Ingresa el porcentaje de descuento\")\n",
    "descuento = int(descuento.rstrip(\"%\"))\n",
    "metodopago = str(input(\"Indica tu método de pago: tarjeta o efectivo\"))\n",
    "\n",
    "if metodopago == \"tarjeta\":\n",
    "    precio = precio*0.97\n",
    "    print(f\"Su pago con tarjeta conlleva un descuento adicional del 3%,\")\n",
    "\n",
    "if descuento >= 0:\n",
    "    preciofinal = precio - (precio*descuento/100)\n",
    "    print(f\"al que sumamos su descuento original del {descuento}%, para un precio final de {preciofinal}\")\n",
    "    \n",
    "else:\n",
    "    print(\"El porcentaje de descuento debe ser mayor a 0\")\n",
    "    print(f\"El precio del artículo sin descuento es de {precio}\")\n"
   ]
  }
 ],
 "metadata": {
  "kernelspec": {
   "display_name": "hackio",
   "language": "python",
   "name": "python3"
  },
  "language_info": {
   "codemirror_mode": {
    "name": "ipython",
    "version": 3
   },
   "file_extension": ".py",
   "mimetype": "text/x-python",
   "name": "python",
   "nbconvert_exporter": "python",
   "pygments_lexer": "ipython3",
   "version": "3.9.6"
  }
 },
 "nbformat": 4,
 "nbformat_minor": 2
}
