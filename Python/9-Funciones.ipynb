{
 "cells": [
  {
   "cell_type": "markdown",
   "metadata": {},
   "source": [
    "\n",
    "<div style=\"text-align: center;\">\n",
    "  <img src=\"https://github.com/Hack-io-Data/Imagenes/blob/main/01-LogosHackio/logo_celeste@4x.png?raw=true\" alt=\"esquema\" />\n",
    "</div>"
   ]
  },
  {
   "cell_type": "markdown",
   "metadata": {},
   "source": [
    "#### 1. Escribe una función sin parámetros que imprima el siguiente mensaje \"¡Hola! Bienvenido.\"\n"
   ]
  },
  {
   "cell_type": "code",
   "execution_count": 2,
   "metadata": {},
   "outputs": [
    {
     "name": "stdout",
     "output_type": "stream",
     "text": [
      "¡Hola! Bienvenido\n"
     ]
    }
   ],
   "source": [
    "def saludo():\n",
    "    print(\"¡Hola! Bienvenido\")\n",
    "\n",
    "saludo()"
   ]
  },
  {
   "cell_type": "markdown",
   "metadata": {},
   "source": [
    "#### 2. Escribe una función que reciba dos parámetros y devuelva la suma de ambos.\n"
   ]
  },
  {
   "cell_type": "code",
   "execution_count": 3,
   "metadata": {},
   "outputs": [
    {
     "name": "stdout",
     "output_type": "stream",
     "text": [
      "10\n"
     ]
    }
   ],
   "source": [
    "def suma1(numero1,numero2):\n",
    "    resultado1 = numero1+numero2\n",
    "    return resultado1\n",
    "\n",
    "numero1 = 4\n",
    "numero2 = 6\n",
    "\n",
    "print(suma1(numero1,numero2))"
   ]
  },
  {
   "cell_type": "markdown",
   "metadata": {},
   "source": [
    "#### 3. Escribe una función que reciba un número y devuelva True si es par, False si no lo es."
   ]
  },
  {
   "cell_type": "code",
   "execution_count": 23,
   "metadata": {},
   "outputs": [
    {
     "name": "stdout",
     "output_type": "stream",
     "text": [
      "False\n"
     ]
    }
   ],
   "source": [
    "numero3 = int(input(\"Introduce un número\"))\n",
    "\n",
    "def pares(numero3):\n",
    "    if numero3 % 2 == 0:\n",
    "        return True\n",
    "    else:\n",
    "        return False\n",
    "\n",
    "print(pares(numero3))"
   ]
  },
  {
   "cell_type": "markdown",
   "metadata": {},
   "source": [
    "#### 4. Escribe un función que devuelva un saludo personalizado a una persona dado su nombre. \n"
   ]
  },
  {
   "cell_type": "code",
   "execution_count": 26,
   "metadata": {},
   "outputs": [
    {
     "name": "stdout",
     "output_type": "stream",
     "text": [
      "¡Hola! Bienvenido jorge\n"
     ]
    }
   ],
   "source": [
    "nombre = input(\"Dinos, cuál es tu nombre?\")\n",
    "\n",
    "def saludo2():\n",
    "    print(f\"¡Hola! Bienvenido {nombre}\")\n",
    "\n",
    "saludo2()"
   ]
  },
  {
   "cell_type": "markdown",
   "metadata": {},
   "source": [
    "#### 5. Escribe una función que sume todos los números que reciba como argumento. La función debe recibir una cantidad variable de argumentos y devolver la suma de todos ellos."
   ]
  },
  {
   "cell_type": "code",
   "execution_count": 31,
   "metadata": {},
   "outputs": [
    {
     "name": "stdout",
     "output_type": "stream",
     "text": [
      "15\n"
     ]
    }
   ],
   "source": [
    "def suma_numeros(*numeros):\n",
    "    resultado3 = sum(numeros)\n",
    "    print(resultado3)\n",
    "\n",
    "suma_numeros(1,2,3,4,5)"
   ]
  },
  {
   "cell_type": "markdown",
   "metadata": {},
   "source": [
    "#### 6. Escribe una función que cuente las letras de una palabra y devuelva un diccionario con la cantidad de veces que se repite cada letra \n"
   ]
  },
  {
   "cell_type": "code",
   "execution_count": 32,
   "metadata": {},
   "outputs": [
    {
     "name": "stdout",
     "output_type": "stream",
     "text": [
      "En la palabra 'hackio' se encuentran las siguientes letras: {'h': 1, 'a': 1, 'c': 1, 'k': 1, 'i': 1, 'o': 1}\n"
     ]
    }
   ],
   "source": [
    "palabra = input('Introduce una palabra:')\n",
    "\n",
    "def numero_letras(palabra):\n",
    "    letrasrepetidas = {}\n",
    "    \n",
    "    for letra in palabra:\n",
    "        if letra in letrasrepetidas:\n",
    "            letrasrepetidas[letra] += 1\n",
    "        else:\n",
    "            letrasrepetidas[letra] = 1\n",
    "    \n",
    "    return letrasrepetidas\n",
    "\n",
    "resultado4 = numero_letras(palabra)\n",
    "print(f\"En la palabra '{palabra}' se encuentran las siguientes letras: {resultado4}\")"
   ]
  },
  {
   "cell_type": "markdown",
   "metadata": {},
   "source": [
    "#### 7. Escribe un función recursiva para calcular el factorial de un número entero no negativo."
   ]
  },
  {
   "cell_type": "code",
   "execution_count": 52,
   "metadata": {},
   "outputs": [
    {
     "name": "stdout",
     "output_type": "stream",
     "text": [
      "El factorial de 5 es:  120\n"
     ]
    }
   ],
   "source": [
    "numero4 = int(input('Introduce un número >=0 para calcular su factorial:'))\n",
    "\n",
    "def factorial(numero):\n",
    "    if numero >= 0:\n",
    "        if numero == 0 or numero == 1:\n",
    "            return 1\n",
    "    \n",
    "        else:\n",
    "            return numero * factorial(numero - 1)\n",
    "        \n",
    "    else:\n",
    "        print(\"El número debe ser mayor o igual a 0\")\n",
    "\n",
    "print(f'El factorial de {numero4} es: ',factorial(numero4))"
   ]
  },
  {
   "cell_type": "markdown",
   "metadata": {},
   "source": [
    "#### 8. Escribe una función que tome dos parámetros: `figura` (una cadena que puede ser `\"rectangulo\"`, `\"circulo\"` o `\"triangulo\"`) y `datos` (una tupla con los datos necesarios para calcular el área de la figura). "
   ]
  },
  {
   "cell_type": "code",
   "execution_count": 62,
   "metadata": {},
   "outputs": [
    {
     "name": "stdout",
     "output_type": "stream",
     "text": [
      "El área de la figura es 4.0\n"
     ]
    }
   ],
   "source": [
    "def area(figura, medidas):\n",
    "    if figura == 'rectangulo':\n",
    "        base, altura = medidas\n",
    "        return base * altura\n",
    "    \n",
    "    elif figura == 'triangulo':\n",
    "        base, altura = medidas\n",
    "        return (base * altura) / 2\n",
    "\n",
    "    elif figura == 'circulo':\n",
    "        radio = medidas\n",
    "        return 3.14 * radio ** 2\n",
    "    \n",
    "    else:\n",
    "        return 'Las figuras válidas son: rectángulo, círculo o triángulo'\n",
    "\n",
    "area_figura = area('triangulo',(2,4))\n",
    "print(f'El área de la figura es {area_figura}')"
   ]
  },
  {
   "cell_type": "markdown",
   "metadata": {},
   "source": [
    "#### 9. Escribe una función que tome una lista de números como parámetro y devuelva el número más grande de la lista. No utilices la función `max()` de Python en tu solución."
   ]
  },
  {
   "cell_type": "code",
   "execution_count": 36,
   "metadata": {},
   "outputs": [
    {
     "data": {
      "text/plain": [
       "1"
      ]
     },
     "execution_count": 36,
     "metadata": {},
     "output_type": "execute_result"
    }
   ],
   "source": [
    "def numero_mayor(lista):\n",
    "    numeromasgrande = lista[0]\n",
    "    \n",
    "    for numero in lista:\n",
    "        if numero > numeromasgrande:\n",
    "            numero = numeromasgrande\n",
    "    \n",
    "    return numeromasgrande\n",
    "\n",
    "listanumeros = [1,2,3,4,5]\n",
    "numero_mayor(listanumeros)"
   ]
  },
  {
   "cell_type": "markdown",
   "metadata": {},
   "source": [
    "#### 10. Escribe una función que tome una cadena como parámetro un texto y devuelva `True` si la cadena es un palíndromo (se lee igual de izquierda a derecha que de derecha a izquierda), y `False` en caso contrario. Ignora los espacios y considera mayúsculas y minúsculas de manera insensible.\n"
   ]
  },
  {
   "cell_type": "code",
   "execution_count": 60,
   "metadata": {},
   "outputs": [
    {
     "name": "stdout",
     "output_type": "stream",
     "text": [
      "La cadena anilina es un palíndromo.\n"
     ]
    }
   ],
   "source": [
    "cadena2 = input('Introduce una frase para comprobar si es un palíndromo:')\n",
    "def palindromo(cadena):\n",
    "\n",
    "    cadena = cadena.lower()\n",
    "    cadena = cadena.replace(\" \", \"\")\n",
    "   \n",
    "    return cadena == cadena[::-1]\n",
    "\n",
    "if palindromo(cadena2):\n",
    "    print(f'La cadena {cadena2} es un palíndromo.')\n",
    "else:\n",
    "    print(f'La cadena {cadena2} no es un palíndromo.')"
   ]
  },
  {
   "cell_type": "markdown",
   "metadata": {},
   "source": [
    "#### 11. Escribe una función que tome una cadena como parámetro y devuelva dos valores: la cantidad de vocales y la cantidad de consonantes presentes en la cadena. Ignora los espacios y considera mayúsculas y minúsculas de manera insensible.\n"
   ]
  },
  {
   "cell_type": "code",
   "execution_count": 42,
   "metadata": {},
   "outputs": [
    {
     "data": {
      "text/plain": [
       "{'Vocales:': 2, 'Consonantes:': 2}"
      ]
     },
     "execution_count": 42,
     "metadata": {},
     "output_type": "execute_result"
    }
   ],
   "source": [
    "cadena = input('Introduce una palabra:')\n",
    "\n",
    "def contar_vocales_consonantes(cadena):\n",
    "    cantidad_vocales = 0\n",
    "    cantidad_consonantes = 0\n",
    "    vocales = \"AEIOUaeiou\"\n",
    "\n",
    "    for letra in cadena:\n",
    "        if letra in vocales:\n",
    "            cantidad_vocales += 1\n",
    "            \n",
    "        else:\n",
    "            cantidad_consonantes +=1\n",
    "\n",
    "    return {'Vocales:':cantidad_vocales,'Consonantes:':cantidad_consonantes}\n",
    "\n",
    "contar_vocales_consonantes(cadena)"
   ]
  }
 ],
 "metadata": {
  "kernelspec": {
   "display_name": "hackio",
   "language": "python",
   "name": "python3"
  },
  "language_info": {
   "codemirror_mode": {
    "name": "ipython",
    "version": 3
   },
   "file_extension": ".py",
   "mimetype": "text/x-python",
   "name": "python",
   "nbconvert_exporter": "python",
   "pygments_lexer": "ipython3",
   "version": "3.9.6"
  }
 },
 "nbformat": 4,
 "nbformat_minor": 2
}
