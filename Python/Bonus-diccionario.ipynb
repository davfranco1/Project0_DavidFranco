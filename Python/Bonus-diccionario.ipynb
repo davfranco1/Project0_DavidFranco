{
 "cells": [
  {
   "cell_type": "markdown",
   "metadata": {},
   "source": [
    "<div style=\"text-align: center;\">\n",
    "  <img src=\"https://github.com/Hack-io-Data/Imagenes/blob/main/01-LogosHackio/logo_celeste@4x.png?raw=true\" alt=\"esquema\" />\n",
    "</div>"
   ]
  },
  {
   "cell_type": "markdown",
   "metadata": {},
   "source": [
    "\n",
    "#### Genera un dicionario con los nombres, apellidos y empresas de la siguinete lista de correos. \n",
    "\n",
    "Te deberá quedar un diccionario parecido al que se muestra a continuación: \n",
    "\n",
    "![resultado](https://github.com/Hack-io-Data/Imagenes/blob/main/04-Prework/Python/diccionario-bonus-strings.png?raw=true)"
   ]
  },
  {
   "cell_type": "code",
   "execution_count": 32,
   "metadata": {},
   "outputs": [],
   "source": [
    "a = \"\"\"john.doe@tecnologiainnovadora.com\n",
    "jane.doe@empresatecnologica.com\n",
    "jim.smith@solucionesdigitales.com\n",
    "mary.jane@tecnologiapionera.com\n",
    "bob.jones@innovaciontecnologica.com\n",
    "alice.smith@desarrollotecnologico.com\n",
    "tom.jones@tecnologiadinamica.com\n",
    "sally.jones@tecnologiamoderna.com\n",
    "jerry.smith@solucionestech.com\n",
    "beth.jones@tecnologiavanguardista.com\n",
    "john.smith@tecnologiasavanzadas.com\n",
    "jane.doe@empresadigital.com\n",
    "jim.jones@tecnologiadinamica.com\n",
    "mary.smith@innovaciondigital.com\n",
    "bob.doe@solucionesinformaticas.com\n",
    "\"\"\"\n"
   ]
  },
  {
   "cell_type": "code",
   "execution_count": 50,
   "metadata": {},
   "outputs": [
    {
     "name": "stdout",
     "output_type": "stream",
     "text": [
      "['john.doe@tecnologiainnovadora.com', 'jane.doe@empresatecnologica.com', 'jim.smith@solucionesdigitales.com', 'mary.jane@tecnologiapionera.com', 'bob.jones@innovaciontecnologica.com', 'alice.smith@desarrollotecnologico.com', 'tom.jones@tecnologiadinamica.com', 'sally.jones@tecnologiamoderna.com', 'jerry.smith@solucionestech.com', 'beth.jones@tecnologiavanguardista.com', 'john.smith@tecnologiasavanzadas.com', 'jane.doe@empresadigital.com', 'jim.jones@tecnologiadinamica.com', 'mary.smith@innovaciondigital.com', 'bob.doe@solucionesinformaticas.com']\n"
     ]
    }
   ],
   "source": [
    "lista = []\n",
    "lista = a.split(\"\\n\") #separa cada línea\n",
    "lista.pop() #quitar \"\" en último elemento\n",
    "\n",
    "print(lista)"
   ]
  },
  {
   "cell_type": "code",
   "execution_count": 51,
   "metadata": {},
   "outputs": [
    {
     "name": "stdout",
     "output_type": "stream",
     "text": [
      "john.doe@tecnologiainnovadora.com\n",
      "jane.doe@empresatecnologica.com\n",
      "jim.smith@solucionesdigitales.com\n",
      "mary.jane@tecnologiapionera.com\n",
      "bob.jones@innovaciontecnologica.com\n",
      "alice.smith@desarrollotecnologico.com\n",
      "tom.jones@tecnologiadinamica.com\n",
      "sally.jones@tecnologiamoderna.com\n",
      "jerry.smith@solucionestech.com\n",
      "beth.jones@tecnologiavanguardista.com\n",
      "john.smith@tecnologiasavanzadas.com\n",
      "jane.doe@empresadigital.com\n",
      "jim.jones@tecnologiadinamica.com\n",
      "mary.smith@innovaciondigital.com\n",
      "bob.doe@solucionesinformaticas.com\n"
     ]
    }
   ],
   "source": [
    "for email in lista:\n",
    "    print(email)"
   ]
  },
  {
   "cell_type": "code",
   "execution_count": 52,
   "metadata": {},
   "outputs": [
    {
     "name": "stdout",
     "output_type": "stream",
     "text": [
      "{'nombre': ['john', 'jane', 'jim', 'mary', 'bob', 'alice', 'tom', 'sally', 'jerry', 'beth', 'john', 'jane', 'jim', 'mary', 'bob'], 'apellido': ['doe', 'doe', 'smith', 'jane', 'jones', 'smith', 'jones', 'jones', 'smith', 'jones', 'smith', 'doe', 'jones', 'smith', 'doe'], 'empresa': ['tecnologiainnovadora', 'empresatecnologica', 'solucionesdigitales', 'tecnologiapionera', 'innovaciontecnologica', 'desarrollotecnologico', 'tecnologiadinamica', 'tecnologiamoderna', 'solucionestech', 'tecnologiavanguardista', 'tecnologiasavanzadas', 'empresadigital', 'tecnologiadinamica', 'innovaciondigital', 'solucionesinformaticas']}\n"
     ]
    }
   ],
   "source": [
    "#Inicializo diccionario\n",
    "diccionariodecorreos = {\n",
    "    'nombre': [],\n",
    "    'apellido': [],\n",
    "    'empresa': []\n",
    "}\n",
    "\n",
    "for email in lista:\n",
    "    buzon, dominio = email.split('@')  # Separo buzón y dominio\n",
    "    nombre, apellido = buzon.split('.')  # El buzón lo vuelvo a separar entre nom y ap.\n",
    "    empresa, tld = dominio.split('.')  # Separo dominio y tld\n",
    "    diccionariodecorreos['nombre'].append(nombre)\n",
    "    diccionariodecorreos['apellido'].append(apellido)\n",
    "    diccionariodecorreos['empresa'].append(empresa)\n",
    "\n",
    "print(diccionariodecorreos)\n"
   ]
  }
 ],
 "metadata": {
  "kernelspec": {
   "display_name": "hackio",
   "language": "python",
   "name": "python3"
  },
  "language_info": {
   "codemirror_mode": {
    "name": "ipython",
    "version": 3
   },
   "file_extension": ".py",
   "mimetype": "text/x-python",
   "name": "python",
   "nbconvert_exporter": "python",
   "pygments_lexer": "ipython3",
   "version": "3.9.6"
  }
 },
 "nbformat": 4,
 "nbformat_minor": 2
}
