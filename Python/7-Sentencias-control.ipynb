{
 "cells": [
  {
   "cell_type": "markdown",
   "metadata": {},
   "source": [
    "<div style=\"text-align: center;\">\n",
    "  <img src=\"https://github.com/Hack-io-Data/Imagenes/blob/main/01-LogosHackio/logo_celeste@4x.png?raw=true\" alt=\"logo hack(io)\" />\n",
    "</div>"
   ]
  },
  {
   "cell_type": "markdown",
   "metadata": {},
   "source": [
    "#### 1. Escribe un programa que determine si un número es par o impar.\n",
    "\n"
   ]
  },
  {
   "cell_type": "code",
   "execution_count": 2,
   "metadata": {},
   "outputs": [
    {
     "name": "stdout",
     "output_type": "stream",
     "text": [
      "El número 9 es impar.\n"
     ]
    }
   ],
   "source": [
    "numero = int(input(\"Ingresa un número para saber si es par o impar:\"))\n",
    "if (numero % 2) == 0:\n",
    "    print(f\"El número {numero} es par.\")\n",
    "else:\n",
    "    print(f\"El número {numero} es impar.\")\n"
   ]
  },
  {
   "cell_type": "markdown",
   "metadata": {},
   "source": [
    "#### 2. Genera un programa que nos diga si es de noche, de día o tarde según la hora proporcionada por el usuario."
   ]
  },
  {
   "cell_type": "code",
   "execution_count": 5,
   "metadata": {},
   "outputs": [
    {
     "name": "stdout",
     "output_type": "stream",
     "text": [
      "Cuando son las 7, es de día\n"
     ]
    }
   ],
   "source": [
    "hora = int(input(\"Hola, ingresa una hora de las 0 a las 24\"))\n",
    "if hora < 0:\n",
    "    print(\"No puedes ingresar un número negativo.\")\n",
    "elif 7 <= hora <=12:\n",
    "    print(f\"Cuando son las {hora}, es de día\")\n",
    "elif 13 <= hora <= 20:\n",
    "    print(f\"Cuando son las {hora}, es de tarde\")\n",
    "else:\n",
    "    print(f\"Cuando son las {hora}, es de noche\")"
   ]
  },
  {
   "cell_type": "markdown",
   "metadata": {},
   "source": [
    "#### 3. Dado un nombre imprime un saludo personalizado."
   ]
  },
  {
   "cell_type": "code",
   "execution_count": 1,
   "metadata": {},
   "outputs": [
    {
     "name": "stdout",
     "output_type": "stream",
     "text": [
      "¡Genial! Bienvenido Jorge\n"
     ]
    }
   ],
   "source": [
    "nombre_usuario = input(\"Empecemos, cómo te llamas?\")\n",
    "print(f\"¡Genial! Bienvenido {nombre_usuario}\")\n"
   ]
  },
  {
   "cell_type": "markdown",
   "metadata": {},
   "source": [
    "#### 4. Escribe un programa que determine qué calificación en texto tiene un alumno en base a su calificación numérica. Las reglas de calificación son: \n",
    "\n",
    "- 0 - 69 insuficiente\n",
    "\n",
    "- 70 - 79 bien\n",
    "\n",
    "- 80 - 89 muy bien\n",
    "\n",
    "- 90 - 100 excelente\n"
   ]
  },
  {
   "cell_type": "code",
   "execution_count": 43,
   "metadata": {},
   "outputs": [
    {
     "name": "stdout",
     "output_type": "stream",
     "text": [
      "Excelente\n"
     ]
    }
   ],
   "source": [
    "nota1 = int(input(\"Hola, ingresa una nota de 0 a 100\"))\n",
    "if nota1 < 0:\n",
    "    print(\"La nota debe ser mayor que 0\")\n",
    "\n",
    "elif 0 <= nota1 <= 69:\n",
    "    print(\"Insuficiente\")\n",
    "\n",
    "elif 69 <= nota1 <= 79:\n",
    "    print(\"Bien\")\n",
    "\n",
    "elif 80 <= nota1 <= 89:\n",
    "    print(\"Muy bien\")\n",
    "\n",
    "else:\n",
    "    print(\"Excelente\")"
   ]
  },
  {
   "cell_type": "markdown",
   "metadata": {},
   "source": [
    "#### 5. Escribe un programa que imprima el día de la semana, dado un número del 1 al 7.\n"
   ]
  },
  {
   "cell_type": "code",
   "execution_count": 67,
   "metadata": {},
   "outputs": [
    {
     "name": "stdout",
     "output_type": "stream",
     "text": [
      "Es sábado\n"
     ]
    }
   ],
   "source": [
    "dia = int(input(\"Ingresa un número del 1 al 7:\"))\n",
    "if dia <= 0:\n",
    "    print(\"El valor debe estar entre 1 y 7.\")\n",
    "\n",
    "elif dia == 1:\n",
    "    print(\"Es lunes\")\n",
    "elif dia == 2:\n",
    "    print(\"Es martes\")\n",
    "elif dia == 3:\n",
    "    print(\"Es miércoles\")\n",
    "elif dia == 4:\n",
    "    print(\"Es jueves\")\n",
    "elif dia == 5:\n",
    "    print(\"Es viernes\")\n",
    "elif dia == 6:\n",
    "    print(\"Es sábado\")\n",
    "elif dia == 7:\n",
    "    print(\"Es domingo\")\n",
    "\n",
    "else:\n",
    "    print(\"El valor debe estar entre 1 y 7.\")"
   ]
  },
  {
   "cell_type": "markdown",
   "metadata": {},
   "source": [
    "#### 6. Escribe un programa que determine si un número es positivo, negativo o cero."
   ]
  },
  {
   "cell_type": "code",
   "execution_count": 37,
   "metadata": {},
   "outputs": [
    {
     "name": "stdout",
     "output_type": "stream",
     "text": [
      "El número es cero.\n"
     ]
    }
   ],
   "source": [
    "numero_tipo = int(input(\"Ingresa un número:\"))\n",
    "if numero_tipo < 0:\n",
    "    print(\"El número es negativo\")\n",
    "else:\n",
    "    if numero_tipo == 0:\n",
    "        print(\"El número es cero.\")\n",
    "    else:\n",
    "        print(\"El número es positivo\")"
   ]
  },
  {
   "cell_type": "markdown",
   "metadata": {},
   "source": [
    "#### 7. Escribe un programa que determine si una persona puede conducir o no. La edad mínima para conducir es 18 años. \n"
   ]
  },
  {
   "cell_type": "code",
   "execution_count": 4,
   "metadata": {},
   "outputs": [
    {
     "name": "stdout",
     "output_type": "stream",
     "text": [
      "¡Vaya! Tendrás que esperar 13 años para poder conducir nuestros coches.\n"
     ]
    }
   ],
   "source": [
    "edad_usuario = int(input(\"Hola, cuál es tu edad?\"))\n",
    "if edad_usuario <= 0:\n",
    "    print(\"Debes introducir una edad mayor a 0.\")\n",
    "\n",
    "elif edad_usuario >= 18:\n",
    "    print(f\"¡Genial! Con {edad_usuario} años, puedes conducir nuestros coches.\")\n",
    "\n",
    "else:\n",
    "    anos_restantes = 18 - edad_usuario\n",
    "    print(f\"¡Vaya! Tendrás que esperar {anos_restantes} años para poder conducir nuestros coches.\")\n"
   ]
  },
  {
   "cell_type": "markdown",
   "metadata": {},
   "source": [
    "#### 8. Escribe un programa que determine si un estudiante aprobó o suspendió un examen."
   ]
  },
  {
   "cell_type": "code",
   "execution_count": 38,
   "metadata": {},
   "outputs": [
    {
     "name": "stdout",
     "output_type": "stream",
     "text": [
      "El alumno ha suspendido.\n"
     ]
    }
   ],
   "source": [
    "nota2 = int(input(\"Hola, ingresa una nota de 0 a 10\"))\n",
    "if nota2 < 0:\n",
    "    print(\"La nota debe ser mayor que 0.\")\n",
    "elif nota2 >= 5:\n",
    "    print(\"El alumno ha aprobado.\")\n",
    "else:\n",
    "    print(\"El alumno ha suspendido.\")"
   ]
  },
  {
   "cell_type": "markdown",
   "metadata": {},
   "source": [
    "#### 9. Escribe un programa que determine si un número es múltiplo de 3 y 5.\n"
   ]
  },
  {
   "cell_type": "code",
   "execution_count": 63,
   "metadata": {},
   "outputs": [
    {
     "name": "stdout",
     "output_type": "stream",
     "text": [
      "El número es múltiplo de 3 y 5\n"
     ]
    }
   ],
   "source": [
    "multiplo = int(input(\"Ingresa un número para determinar si es múltiplo de 3 y 5\"))\n",
    "if multiplo % 3 == 0 and multiplo % 5 == 0:\n",
    "    print(\"El número es múltiplo de 3 y de 5.\")\n",
    "\n",
    "else:\n",
    "    print(\"El número no es múltiplo de 3 y de 5.\")"
   ]
  },
  {
   "cell_type": "markdown",
   "metadata": {},
   "source": [
    "#### 10. Escribe un programa que determine si un número es par o impar.\n"
   ]
  },
  {
   "cell_type": "code",
   "execution_count": 15,
   "metadata": {},
   "outputs": [
    {
     "name": "stdout",
     "output_type": "stream",
     "text": [
      "Ingresa un número para saber si es par o impar:\n",
      "El número  7  es impar.\n"
     ]
    }
   ],
   "source": [
    "#Repetido del ejercicio 1.\n",
    "\n",
    "print(\"Ingresa un número para saber si es par o impar:\")\n",
    "numero = int(input())\n",
    "if (numero % 2) == 0:\n",
    "    print(\"El número \",numero,\" es par.\")\n",
    "else:\n",
    "    print(\"El número \",numero,\" es impar.\")"
   ]
  }
 ],
 "metadata": {
  "kernelspec": {
   "display_name": "hackio",
   "language": "python",
   "name": "python3"
  },
  "language_info": {
   "codemirror_mode": {
    "name": "ipython",
    "version": 3
   },
   "file_extension": ".py",
   "mimetype": "text/x-python",
   "name": "python",
   "nbconvert_exporter": "python",
   "pygments_lexer": "ipython3",
   "version": "3.9.6"
  }
 },
 "nbformat": 4,
 "nbformat_minor": 2
}
